{
 "cells": [
  {
   "cell_type": "markdown",
   "metadata": {},
   "source": [
    "# **C++ Notebook For Prime Number Divisibility Game**"
   ]
  },
  {
   "cell_type": "markdown",
   "metadata": {},
   "source": [
    "The Notebook Is Created Using This [Link](https://mybinder.org/v2/gh/QuantStack/xeus-cling/stable?filepath=notebooks/xcpp.ipynb)\n",
    "\n",
    "The Question Being Solved Was One Of The Questions That Came In TCS CodeVita In Previous Year"
   ]
  },
  {
   "cell_type": "markdown",
   "metadata": {},
   "source": [
    "## **Question**\n",
    "\n",
    "A math game is introduced in a school competition to test the skills of students. The game deals with Prime numbers.\n",
    "The game rules are as follows:\n",
    "- From the given set of distinct natural numbers as input, consider the smallest natural number as q.\n",
    "- Your task is to compute the smallest prime number (p) such that when p is divided by all the distinct numbers in the input, except q, should result q as the remainder."
   ]
  },
  {
   "cell_type": "markdown",
   "metadata": {},
   "source": [
    "## **Constraints**\n",
    "- 1 < n < 11\n",
    "- p < 10 ^ 10"
   ]
  },
  {
   "cell_type": "markdown",
   "metadata": {},
   "source": [
    "## **Input**\n",
    "Input consists of n+1 number of distinct natural numbers separated by spaces."
   ]
  },
  {
   "cell_type": "markdown",
   "metadata": {},
   "source": [
    "## **Output**\n",
    "Print single integer p if such a p exists, else print “None”."
   ]
  },
  {
   "cell_type": "markdown",
   "metadata": {},
   "source": [
    "## **Time Limit**\n",
    "1 second"
   ]
  },
  {
   "cell_type": "markdown",
   "metadata": {},
   "source": [
    "## **Examples**\n",
    "\n",
    "\n",
    "**Example 1** : <br> <br>\n",
    "`Input` : <br>\n",
    "4 <br>\n",
    "3 4 5 1 <br> <br>\n",
    "`Output` : 61 <br> <br>\n",
    "`Explanation` : Here the n+1 numbers are 3, 4, 5 and 1 where q=1 (the least of the numbers)\n",
    "The smallest number that leaves remainder 1 when divided by 3, 4 and 5 is 61 and is prime. Hence, output is 61.\n",
    "\n",
    "<br> <br>\n",
    "\n",
    "**Example 2** :\n",
    "`Input` : <br> <br>\n",
    "4 <br>\n",
    "3 4 5 2 <br><br>\n",
    "`Output` : None <br> <br>\n",
    "`Explanation` : Here q=2. Any number that when divided by 4 leaving remainder 2 must be an even number e.g., 6, 10, 14 etc. Hence it can’t be prime. Hence, output is “None”."
   ]
  },
  {
   "cell_type": "markdown",
   "metadata": {},
   "source": [
    "## **Code (C++)**"
   ]
  },
  {
   "cell_type": "markdown",
   "metadata": {},
   "source": [
    "We'll Import Header Files"
   ]
  },
  {
   "cell_type": "code",
   "execution_count": 1,
   "metadata": {},
   "outputs": [],
   "source": [
    "#include <iostream>\n",
    "#include <vector>\n",
    "#include <algorithm>"
   ]
  },
  {
   "cell_type": "markdown",
   "metadata": {},
   "source": [
    "Now, We'll Create A Class `Solution`, Where Every Logic Will Be Initiated"
   ]
  },
  {
   "cell_type": "code",
   "execution_count": 2,
   "metadata": {},
   "outputs": [],
   "source": [
    "class Solution\n",
    "{\n",
    "    public:\n",
    "        // This public function finds the smallest prime number based on a vector of integers.\n",
    "        int findSmallestPrime(std::vector<int> nums)\n",
    "        {\n",
    "            // Find the smallest number from the input vector and store it along with the remaining numbers.\n",
    "            std::pair<std::vector<int>, int> smallerVectorAndNumber = findSmallestNumberFromVector(nums);\n",
    "            int smallestElement = smallerVectorAndNumber.second;\n",
    "            std::vector<int> remainingNumbers = smallerVectorAndNumber.first;\n",
    "\n",
    "            // If the smallest element is not 1, check if it divides any of the remaining numbers.\n",
    "            // If it does, return -1 (no valid solution).\n",
    "            if(smallestElement != 1)\n",
    "            {\n",
    "                for (int num : remainingNumbers)\n",
    "                {\n",
    "                    if (num % smallestElement == 0)\n",
    "                    {\n",
    "                        return -1;\n",
    "                    }\n",
    "                }\n",
    "            }\n",
    "\n",
    "            // Calculate the LCM (Least Common Multiple) of the remaining numbers.\n",
    "            int lcmNumber = calculateLCM(remainingNumbers);\n",
    "\n",
    "            // Find the smallest prime number greater than or equal to the calculated LCM + smallest element.\n",
    "            // This is done using a loop and the isPrime() function.\n",
    "            int c = 1;\n",
    "            while (true)\n",
    "            {\n",
    "                if (isPrime(lcmNumber + smallestElement))\n",
    "                {\n",
    "                    return lcmNumber + smallestElement;\n",
    "                }\n",
    "                lcmNumber = lcmNumber * c;\n",
    "                c++;\n",
    "            }\n",
    "\n",
    "            return -1; // No valid solution found\n",
    "        }\n",
    "\n",
    "    private:\n",
    "        // Calculate the Highest Common Factor (HCF) of two numbers using Euclidean algorithm.\n",
    "        int calculateHCF(int a, int b)\n",
    "        {\n",
    "            if (b == 0)\n",
    "            {\n",
    "                return a;\n",
    "            }\n",
    "            return calculateHCF(b, a % b);\n",
    "        }\n",
    "\n",
    "        // Calculate the Least Common Multiple (LCM) of a vector of numbers.\n",
    "        int calculateLCM(std::vector<int> nums)\n",
    "        {\n",
    "            int ans = nums[0];\n",
    "            for (int i = 1; i < nums.size(); i++)\n",
    "            {\n",
    "                ans = (ans * nums[i]) / calculateHCF(ans, nums[i]);\n",
    "            }\n",
    "            return ans;\n",
    "        }\n",
    "\n",
    "        // Find the smallest number in a vector and remove it from the vector.\n",
    "        std::pair<std::vector<int>, int> findSmallestNumberFromVector(std::vector<int> nums)\n",
    "        {\n",
    "            if (nums.empty())\n",
    "            {\n",
    "                return std::make_pair(nums, 0);\n",
    "            }\n",
    "\n",
    "            int min_element = nums[0];\n",
    "            for (int i = 1; i < nums.size(); i++)\n",
    "            {\n",
    "                if (nums[i] < min_element)\n",
    "                {\n",
    "                    min_element = nums[i];\n",
    "                }\n",
    "            }\n",
    "            auto iter = std::find(nums.begin(), nums.end(), min_element);\n",
    "            if (iter != nums.end())\n",
    "            {\n",
    "                nums.erase(iter);\n",
    "            }\n",
    "\n",
    "            return std::make_pair(nums, min_element);\n",
    "        }\n",
    "\n",
    "        // Check if a number is prime.\n",
    "        bool isPrime(int n)\n",
    "        {\n",
    "            if (n <= 1)\n",
    "            {\n",
    "                return false;\n",
    "            }\n",
    "            if (n <= 3)\n",
    "            {\n",
    "                return true;\n",
    "            }\n",
    "            if (n % 2 == 0 || n % 3 == 0)\n",
    "            {\n",
    "                return false;\n",
    "            }\n",
    "            for (int i = 5; i * i <= n; i += 6)\n",
    "            {\n",
    "                if (n % i == 0 || n % (i + 2) == 0)\n",
    "                {\n",
    "                    return false;\n",
    "                }\n",
    "            }\n",
    "            return true;\n",
    "        }\n",
    "};"
   ]
  },
  {
   "cell_type": "markdown",
   "metadata": {},
   "source": [
    "Now, We'll Create `main` Function And Call It To Run A Test Case"
   ]
  },
  {
   "cell_type": "code",
   "execution_count": 3,
   "metadata": {},
   "outputs": [],
   "source": [
    "int main()\n",
    "{\n",
    "    int n;\n",
    "    std::vector<int> nums;\n",
    "\n",
    "    std::cout << \"Enter Elements of Vector (Enter A Non Positive Number To Stop):\" << std::endl;\n",
    "    while (true)\n",
    "    {\n",
    "        std::cin >> n;\n",
    "        if (n <= 0)\n",
    "        {\n",
    "            break;\n",
    "        }\n",
    "        nums.push_back(n);\n",
    "    }\n",
    "\n",
    "    Solution solution;\n",
    "    int result = solution.findSmallestPrime(nums);\n",
    "\n",
    "    if (result == -1)\n",
    "    {\n",
    "        std::cout << \"\\nNone\" << std::endl;\n",
    "    }\n",
    "    else\n",
    "    {\n",
    "        std::cout << \"\\nSmallest Prime: \" << result << std::endl;\n",
    "    }\n",
    "\n",
    "    return 0;\n",
    "}"
   ]
  },
  {
   "cell_type": "code",
   "execution_count": 4,
   "metadata": {},
   "outputs": [
    {
     "name": "stdout",
     "output_type": "stream",
     "text": [
      "Enter Elements of Vector (Enter A Non Positive Number To Stop):\n",
      "3\n",
      "4\n",
      "5\n",
      "1\n",
      "-1\n",
      "\n",
      "Smallest Prime: 61\n"
     ]
    }
   ],
   "source": [
    "int test_case = main() // Calling main function"
   ]
  },
  {
   "cell_type": "markdown",
   "metadata": {},
   "source": [
    "## **Complexity**\n",
    "\n",
    "- **Time Complexity**:  `O(n)`\n",
    "- **Space Complexity**: `O(n)`"
   ]
  }
 ],
 "metadata": {
  "kernelspec": {
   "display_name": "C++17",
   "language": "C++17",
   "name": "xcpp17"
  },
  "language_info": {
   "codemirror_mode": "text/x-c++src",
   "file_extension": ".cpp",
   "mimetype": "text/x-c++src",
   "name": "c++",
   "version": "17"
  }
 },
 "nbformat": 4,
 "nbformat_minor": 2
}
