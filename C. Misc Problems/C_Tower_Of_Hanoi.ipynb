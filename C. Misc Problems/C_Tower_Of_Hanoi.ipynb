{
 "cells": [
  {
   "cell_type": "markdown",
   "metadata": {},
   "source": [
    "# **C++ Notebook For Tower of Hanoi Problem**\n",
    "\n",
    "The Notebook Is Created Using This [Link](https://mybinder.org/v2/gh/QuantStack/xeus-cling/stable?filepath=notebooks/xcpp.ipynb)\n",
    "\n",
    "The Tower of Hanoi is like a puzzle game where you have three rods and a bunch of disks of different sizes. The goal is to move all the disks from one rod to another, but you can't place a bigger disk on top of a smaller one.\n",
    "\n",
    "Here are the basic rules:\n",
    "- You can only move one disk at a time.\n",
    "- You can move the top disk from any rod to another rod.\n",
    "- You can't put a bigger disk on top of a smaller one.\n"
   ]
  },
  {
   "cell_type": "markdown",
   "metadata": {},
   "source": [
    "### **Import Stuff**"
   ]
  },
  {
   "cell_type": "code",
   "execution_count": 1,
   "metadata": {},
   "outputs": [],
   "source": [
    "#include <iostream>\n",
    "#include <vector>"
   ]
  },
  {
   "cell_type": "markdown",
   "metadata": {},
   "source": [
    "### **Making A Class Named `Solution` That Solves _`Tower of Hanoi`_ Problem**"
   ]
  },
  {
   "cell_type": "code",
   "execution_count": 2,
   "metadata": {},
   "outputs": [],
   "source": [
    "class Solution {\n",
    "public:\n",
    "    int TowerOfHanoi(int disks, char Tower_From, char Tower_Middle, char Tower_Destination) {\n",
    "        if (disks == 1) {\n",
    "            std::cout << \"Move The Disk From \" << Tower_From << \" To \" << Tower_Destination << std::endl;\n",
    "            return 1;  // Return 1 to indicate one step was taken\n",
    "        }\n",
    "\n",
    "        int steps = 0;\n",
    "\n",
    "        // Move (disks - 1) disks from Tower_From to Tower_Middle using Tower_Destination as the auxiliary tower\n",
    "        steps += TowerOfHanoi(disks - 1, Tower_From, Tower_Destination, Tower_Middle);\n",
    "\n",
    "        // Move the largest disk from Tower_From to Tower_Destination\n",
    "        std::cout << \"Move The Disk From \" << Tower_From << \" To \" << Tower_Destination << std::endl;\n",
    "        steps++;\n",
    "\n",
    "        // Move (disks - 1) disks from Tower_Middle to Tower_Destination using Tower_From as the auxiliary tower\n",
    "        steps += TowerOfHanoi(disks - 1, Tower_Middle, Tower_From, Tower_Destination);\n",
    "\n",
    "        return steps;\n",
    "    }\n",
    "};"
   ]
  },
  {
   "cell_type": "markdown",
   "metadata": {},
   "source": [
    "### **Taking Input From User And Working The Code**"
   ]
  },
  {
   "cell_type": "code",
   "execution_count": 3,
   "metadata": {},
   "outputs": [
    {
     "name": "stdout",
     "output_type": "stream",
     "text": [
      "Enter The Number Of Disks: 5\n",
      "Enter The Name Of Source Tower: A\n",
      "Enter The Name Of Auxiliary Tower: B\n",
      "Enter The Name Of Destination Tower: C\n",
      "Move The Disk From A To C\n",
      "Move The Disk From A To B\n",
      "Move The Disk From C To B\n",
      "Move The Disk From A To C\n",
      "Move The Disk From B To A\n",
      "Move The Disk From B To C\n",
      "Move The Disk From A To C\n",
      "Move The Disk From A To B\n",
      "Move The Disk From C To B\n",
      "Move The Disk From C To A\n",
      "Move The Disk From B To A\n",
      "Move The Disk From C To B\n",
      "Move The Disk From A To C\n",
      "Move The Disk From A To B\n",
      "Move The Disk From C To B\n",
      "Move The Disk From A To C\n",
      "Move The Disk From B To A\n",
      "Move The Disk From B To C\n",
      "Move The Disk From A To C\n",
      "Move The Disk From B To A\n",
      "Move The Disk From C To B\n",
      "Move The Disk From C To A\n",
      "Move The Disk From B To A\n",
      "Move The Disk From B To C\n",
      "Move The Disk From A To C\n",
      "Move The Disk From A To B\n",
      "Move The Disk From C To B\n",
      "Move The Disk From A To C\n",
      "Move The Disk From B To A\n",
      "Move The Disk From B To C\n",
      "Move The Disk From A To C\n",
      "Total Steps Taken: 31"
     ]
    }
   ],
   "source": [
    "int n;\n",
    "char Tower_From, Tower_Middle, Tower_Destination;\n",
    "\n",
    "std::cout << \"Enter The Number Of Disks: \";\n",
    "std::cin >> n;\n",
    "\n",
    "std::cout << \"Enter The Name Of Source Tower: \";\n",
    "std::cin >> Tower_From;\n",
    "\n",
    "std::cout << \"Enter The Name Of Auxiliary Tower: \";\n",
    "std::cin >> Tower_Middle;\n",
    "\n",
    "std::cout << \"Enter The Name Of Destination Tower: \";\n",
    "std::cin >> Tower_Destination;\n",
    "\n",
    "int Total_Steps = Solution().TowerOfHanoi(n, Tower_From, Tower_Middle, Tower_Destination);\n",
    "std::cout << \"Total Steps Taken: \" << Total_Steps;"
   ]
  },
  {
   "cell_type": "markdown",
   "metadata": {},
   "source": [
    "#### **Time Complexity**\n",
    "\n",
    "_Time Complexity_ = $O(2^n)$"
   ]
  }
 ],
 "metadata": {
  "kernelspec": {
   "display_name": "C++17",
   "language": "C++17",
   "name": "xcpp17"
  },
  "language_info": {
   "codemirror_mode": "text/x-c++src",
   "file_extension": ".cpp",
   "mimetype": "text/x-c++src",
   "name": "c++",
   "version": "17"
  }
 },
 "nbformat": 4,
 "nbformat_minor": 2
}
